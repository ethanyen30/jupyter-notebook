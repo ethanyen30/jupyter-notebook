{
 "cells": [
  {
   "cell_type": "markdown",
   "metadata": {
    "id": "IgqJw7jSS7xU"
   },
   "source": [
    "# Tutorial - Transformers"
   ]
  },
  {
   "cell_type": "code",
   "execution_count": 1,
   "metadata": {
    "id": "Pdf90N50S7xY"
   },
   "outputs": [],
   "source": [
    "#|all_slow"
   ]
  },
  {
   "cell_type": "markdown",
   "metadata": {
    "id": "CiqSGkbkS7xZ"
   },
   "source": [
    "In this tutorial, we will see how we can use the fastai library to fine-tune a pretrained transformer model from the [transformers library](https://github.com/huggingface/transformers) by HuggingFace. We will use the mid-level API to gather the data. Even if this tutorial is self contained, it might help to check the [imagenette tutorial](http://docs.fast.ai/tutorial.imagenette) to have a second look on the mid-level API (with a gentle introduction using the higher level APIs) in computer vision."
   ]
  },
  {
   "cell_type": "markdown",
   "metadata": {
    "id": "-R2axvt_S7xb"
   },
   "source": [
    "## Importing a transformers pretrained model"
   ]
  },
  {
   "cell_type": "code",
   "execution_count": 2,
   "metadata": {
    "id": "6nHrlcObS7xg"
   },
   "outputs": [],
   "source": [
    "from transformers import GPT2LMHeadModel, GPT2TokenizerFast"
   ]
  },
  {
   "cell_type": "markdown",
   "metadata": {
    "id": "N7RzbRf3S7xj"
   },
   "source": [
    "We can use several versions of this GPT2 model, look at the [transformers documentation](https://huggingface.co/transformers/pretrained_models.html) for more details."
   ]
  },
  {
   "cell_type": "code",
   "execution_count": 3,
   "metadata": {
    "colab": {
     "referenced_widgets": [
      "a1b530b2b41c4b05b2cea7030ffadde2",
      "1dc01424a2a74940a6ad335042c59e0f",
      "ade814d6b9b84fe19318b644c4171fc2",
      "ea74d74d63fa42d7954db7920d0eb675",
      "0044b6ddc22d4496a31d7863d966651b"
     ]
    },
    "id": "olY4Wg5kS7xl",
    "outputId": "09611185-d009-4417-8414-5a84ad488e9a"
   },
   "outputs": [],
   "source": [
    "pretrained_weights = 'gpt2'\n",
    "tokenizer = GPT2TokenizerFast.from_pretrained(pretrained_weights)\n",
    "model = GPT2LMHeadModel.from_pretrained(pretrained_weights)"
   ]
  },
  {
   "cell_type": "code",
   "execution_count": 4,
   "metadata": {
    "id": "7h3doJH2S7xr",
    "outputId": "b3291d6e-75a3-4e07-f15e-1dff96770af5"
   },
   "outputs": [
    {
     "data": {
      "text/plain": [
       "[1212, 318, 281, 1672, 286, 2420, 11, 290]"
      ]
     },
     "execution_count": 4,
     "metadata": {},
     "output_type": "execute_result"
    }
   ],
   "source": [
    "ids = tokenizer.encode('This is an example of text, and')\n",
    "ids"
   ]
  },
  {
   "cell_type": "code",
   "execution_count": 5,
   "metadata": {
    "id": "oCjRB8zRS7xx",
    "outputId": "4a43902b-80ad-46b5-e2eb-45ffb5fd0645"
   },
   "outputs": [
    {
     "data": {
      "text/plain": [
       "'This is an example of text, and'"
      ]
     },
     "execution_count": 5,
     "metadata": {},
     "output_type": "execute_result"
    }
   ],
   "source": [
    "tokenizer.decode(ids)"
   ]
  },
  {
   "cell_type": "markdown",
   "metadata": {
    "id": "O7wj7q_WS7xz"
   },
   "source": [
    "The model can be used to generate predictions (it is pretrained). It has a `generate` method that expects a batch of prompt, so we feed it our ids and add one batch dimension (there is a padding warning we can ignore as well):"
   ]
  },
  {
   "cell_type": "code",
   "execution_count": 6,
   "metadata": {
    "id": "LZVxLC46S7x0"
   },
   "outputs": [],
   "source": [
    "import torch"
   ]
  },
  {
   "cell_type": "code",
   "execution_count": 7,
   "metadata": {
    "id": "kwx2bXJaS7x1",
    "outputId": "4934b6dc-4bdf-401a-bb7f-f734c0d2ee02"
   },
   "outputs": [
    {
     "name": "stderr",
     "output_type": "stream",
     "text": [
      "The attention mask and the pad token id were not set. As a consequence, you may observe unexpected behavior. Please pass your input's `attention_mask` to obtain reliable results.\n",
      "Setting `pad_token_id` to `eos_token_id`:50256 for open-end generation.\n"
     ]
    }
   ],
   "source": [
    "t = torch.LongTensor(ids)[None]\n",
    "preds = model.generate(t)"
   ]
  },
  {
   "cell_type": "markdown",
   "metadata": {
    "id": "IQOa7NKQS7x3"
   },
   "source": [
    "The predictions, by default, are of length 20:"
   ]
  },
  {
   "cell_type": "code",
   "execution_count": 8,
   "metadata": {
    "id": "EFjEG0KqS7x4",
    "outputId": "207bc04a-3a6d-45c6-9ae6-8b37b6ca97a9"
   },
   "outputs": [
    {
     "data": {
      "text/plain": [
       "(torch.Size([1, 20]),\n",
       " tensor([1212,  318,  281, 1672,  286, 2420,   11,  290,  340,  338,  407,  257,\n",
       "          922,  530,   13,  198,  198,  464,  717, 1517]))"
      ]
     },
     "execution_count": 8,
     "metadata": {},
     "output_type": "execute_result"
    }
   ],
   "source": [
    "preds.shape,preds[0]"
   ]
  },
  {
   "cell_type": "markdown",
   "metadata": {
    "id": "bWl1b93jS7x5"
   },
   "source": [
    "We can use the decode method (that prefers a numpy array to a tensor):"
   ]
  },
  {
   "cell_type": "code",
   "execution_count": 9,
   "metadata": {
    "id": "5tZgU5baS7x6",
    "outputId": "c08714bb-5793-48ab-c1cd-1725d06eb8f0"
   },
   "outputs": [
    {
     "data": {
      "text/plain": [
       "\"This is an example of text, and it's not a good one.\\n\\nThe first thing\""
      ]
     },
     "execution_count": 9,
     "metadata": {},
     "output_type": "execute_result"
    }
   ],
   "source": [
    "tokenizer.decode(preds[0].numpy())"
   ]
  },
  {
   "cell_type": "markdown",
   "metadata": {
    "id": "V0UsUTPRS7x8"
   },
   "source": [
    "## Bridging the gap with fastai"
   ]
  },
  {
   "cell_type": "code",
   "execution_count": 10,
   "metadata": {
    "id": "d1vdQ8LVS7yA"
   },
   "outputs": [],
   "source": [
    "from fastai.text.all import *"
   ]
  },
  {
   "cell_type": "markdown",
   "metadata": {
    "id": "qjHBp8hcS7yB"
   },
   "source": [
    "### Preparing the data"
   ]
  },
  {
   "cell_type": "markdown",
   "metadata": {
    "id": "CVULgfm6S7yC"
   },
   "source": [
    "Then we download the dataset (if not present), it comes as two csv files:"
   ]
  },
  {
   "cell_type": "code",
   "execution_count": 11,
   "metadata": {
    "id": "uol8RgXUS7yD",
    "outputId": "f2f61913-f7d2-44ad-a69f-f8b6e284aae3"
   },
   "outputs": [
    {
     "data": {
      "text/plain": [
       "(#2) [Path('C:/Users/ethan/.fastai/data/wikitext-2/test.csv'),Path('C:/Users/ethan/.fastai/data/wikitext-2/train.csv')]"
      ]
     },
     "execution_count": 11,
     "metadata": {},
     "output_type": "execute_result"
    }
   ],
   "source": [
    "path = untar_data(URLs.WIKITEXT_TINY)\n",
    "path.ls()"
   ]
  },
  {
   "cell_type": "code",
   "execution_count": 12,
   "metadata": {
    "id": "f6f3YKqkS7yF",
    "outputId": "01d35aac-c100-4500-aa8b-0a02e222eea6"
   },
   "outputs": [
    {
     "data": {
      "text/html": [
       "<div>\n",
       "<style scoped>\n",
       "    .dataframe tbody tr th:only-of-type {\n",
       "        vertical-align: middle;\n",
       "    }\n",
       "\n",
       "    .dataframe tbody tr th {\n",
       "        vertical-align: top;\n",
       "    }\n",
       "\n",
       "    .dataframe thead th {\n",
       "        text-align: right;\n",
       "    }\n",
       "</style>\n",
       "<table border=\"1\" class=\"dataframe\">\n",
       "  <thead>\n",
       "    <tr style=\"text-align: right;\">\n",
       "      <th></th>\n",
       "      <th>0</th>\n",
       "    </tr>\n",
       "  </thead>\n",
       "  <tbody>\n",
       "    <tr>\n",
       "      <th>0</th>\n",
       "      <td>\\n = 2013 – 14 York City F.C. season = \\n \\n The 2013 – 14 season was the &lt;unk&gt; season of competitive association football and 77th season in the Football League played by York City Football Club , a professional football club based in York , North Yorkshire , England . Their 17th @-@ place finish in 2012 – 13 meant it was their second consecutive season in League Two . The season ran from 1 July 2013 to 30 June 2014 . \\n Nigel Worthington , starting his first full season as York manager , made eight permanent summer signings . By the turn of the year York were only above the relegation z...</td>\n",
       "    </tr>\n",
       "    <tr>\n",
       "      <th>1</th>\n",
       "      <td>\\n = Big Boy ( song ) = \\n \\n \" Big Boy \" &lt;unk&gt; \" I 'm A Big Boy Now \" was the first single ever recorded by the Jackson 5 , which was released by Steeltown Records in January 1968 . The group played instruments on many of their Steeltown compositions , including \" Big Boy \" . The song was neither a critical nor commercial success , but the Jackson family were delighted with the outcome nonetheless . \\n The Jackson 5 would release a second single with Steeltown Records before moving to Motown Records . The group 's recordings at Steeltown Records were thought to be lost , but they were re...</td>\n",
       "    </tr>\n",
       "    <tr>\n",
       "      <th>2</th>\n",
       "      <td>\\n = The Remix ( Lady Gaga album ) = \\n \\n The Remix is a remix album by American recording artist Lady Gaga . Released in Japan on March 3 , 2010 , it contains remixes of the songs from her first studio album , The Fame ( 2008 ) , and her third extended play , The Fame Monster ( 2009 ) . A revised version of the track list was prepared for release in additional markets , beginning with Mexico on May 3 , 2010 . A number of recording artists have produced the songs , including Pet Shop Boys , Passion Pit and The Sound of Arrows . The remixed versions feature both uptempo and &lt;unk&gt; composit...</td>\n",
       "    </tr>\n",
       "    <tr>\n",
       "      <th>3</th>\n",
       "      <td>\\n = New Year 's Eve ( Up All Night ) = \\n \\n \" New Year 's Eve \" is the twelfth episode of the first season of the American comedy television series Up All Night . The episode originally aired on NBC in the United States on January 12 , 2012 . It was written by Erica &lt;unk&gt; and was directed by Beth McCarthy @-@ Miller . The episode also featured a guest appearance from Jason Lee as Chris and Reagan 's neighbor and Ava 's boyfriend , Kevin . \\n During Reagan ( Christina Applegate ) and Chris 's ( Will &lt;unk&gt; ) first New Year 's Eve game night , Reagan 's competitiveness comes out causing Ch...</td>\n",
       "    </tr>\n",
       "    <tr>\n",
       "      <th>4</th>\n",
       "      <td>\\n = Geopyxis carbonaria = \\n \\n Geopyxis carbonaria is a species of fungus in the genus Geopyxis , family &lt;unk&gt; . First described to science in 1805 , and given its current name in 1889 , the species is commonly known as the charcoal loving elf @-@ cup , dwarf &lt;unk&gt; cup , &lt;unk&gt; &lt;unk&gt; cup , or pixie cup . The small , &lt;unk&gt; @-@ shaped fruitbodies of the fungus are reddish @-@ brown with a whitish fringe and measure up to 2 cm ( 0 @.@ 8 in ) across . They have a short , tapered stalk . Fruitbodies are commonly found on soil where brush has recently been burned , sometimes in great numbers ....</td>\n",
       "    </tr>\n",
       "  </tbody>\n",
       "</table>\n",
       "</div>"
      ],
      "text/plain": [
       "                                                                                                                                                                                                                                                                                                                                                                                                                                                                                                                                                                                                                         0\n",
       "0   \\n = 2013 – 14 York City F.C. season = \\n \\n The 2013 – 14 season was the <unk> season of competitive association football and 77th season in the Football League played by York City Football Club , a professional football club based in York , North Yorkshire , England . Their 17th @-@ place finish in 2012 – 13 meant it was their second consecutive season in League Two . The season ran from 1 July 2013 to 30 June 2014 . \\n Nigel Worthington , starting his first full season as York manager , made eight permanent summer signings . By the turn of the year York were only above the relegation z...\n",
       "1   \\n = Big Boy ( song ) = \\n \\n \" Big Boy \" <unk> \" I 'm A Big Boy Now \" was the first single ever recorded by the Jackson 5 , which was released by Steeltown Records in January 1968 . The group played instruments on many of their Steeltown compositions , including \" Big Boy \" . The song was neither a critical nor commercial success , but the Jackson family were delighted with the outcome nonetheless . \\n The Jackson 5 would release a second single with Steeltown Records before moving to Motown Records . The group 's recordings at Steeltown Records were thought to be lost , but they were re...\n",
       "2   \\n = The Remix ( Lady Gaga album ) = \\n \\n The Remix is a remix album by American recording artist Lady Gaga . Released in Japan on March 3 , 2010 , it contains remixes of the songs from her first studio album , The Fame ( 2008 ) , and her third extended play , The Fame Monster ( 2009 ) . A revised version of the track list was prepared for release in additional markets , beginning with Mexico on May 3 , 2010 . A number of recording artists have produced the songs , including Pet Shop Boys , Passion Pit and The Sound of Arrows . The remixed versions feature both uptempo and <unk> composit...\n",
       "3   \\n = New Year 's Eve ( Up All Night ) = \\n \\n \" New Year 's Eve \" is the twelfth episode of the first season of the American comedy television series Up All Night . The episode originally aired on NBC in the United States on January 12 , 2012 . It was written by Erica <unk> and was directed by Beth McCarthy @-@ Miller . The episode also featured a guest appearance from Jason Lee as Chris and Reagan 's neighbor and Ava 's boyfriend , Kevin . \\n During Reagan ( Christina Applegate ) and Chris 's ( Will <unk> ) first New Year 's Eve game night , Reagan 's competitiveness comes out causing Ch...\n",
       "4   \\n = Geopyxis carbonaria = \\n \\n Geopyxis carbonaria is a species of fungus in the genus Geopyxis , family <unk> . First described to science in 1805 , and given its current name in 1889 , the species is commonly known as the charcoal loving elf @-@ cup , dwarf <unk> cup , <unk> <unk> cup , or pixie cup . The small , <unk> @-@ shaped fruitbodies of the fungus are reddish @-@ brown with a whitish fringe and measure up to 2 cm ( 0 @.@ 8 in ) across . They have a short , tapered stalk . Fruitbodies are commonly found on soil where brush has recently been burned , sometimes in great numbers ...."
      ]
     },
     "execution_count": 12,
     "metadata": {},
     "output_type": "execute_result"
    }
   ],
   "source": [
    "df_train = pd.read_csv(path/'train.csv', header=None)\n",
    "df_valid = pd.read_csv(path/'test.csv', header=None)\n",
    "df_train.head()"
   ]
  },
  {
   "cell_type": "code",
   "execution_count": 13,
   "metadata": {
    "id": "QS97xRTDS7yH"
   },
   "outputs": [],
   "source": [
    "all_texts = np.concatenate([df_train[0].values, df_valid[0].values])"
   ]
  },
  {
   "cell_type": "code",
   "execution_count": 14,
   "metadata": {},
   "outputs": [],
   "source": [
    "import pandas"
   ]
  },
  {
   "cell_type": "code",
   "execution_count": 15,
   "metadata": {},
   "outputs": [],
   "source": [
    "full_df = pandas.read_excel(\"gatherCatalogTexts_Aug22.xlsx\")"
   ]
  },
  {
   "cell_type": "code",
   "execution_count": 16,
   "metadata": {},
   "outputs": [],
   "source": [
    "I = full_df.is_resume==2\n",
    "#display(full_df[I].head())\n",
    "full_df = full_df[I]"
   ]
  },
  {
   "cell_type": "code",
   "execution_count": 17,
   "metadata": {},
   "outputs": [],
   "source": [
    "from sklearn.model_selection import train_test_split\n",
    "df_train, df_valid= train_test_split(full_df, test_size=0.33, random_state=42)"
   ]
  },
  {
   "cell_type": "code",
   "execution_count": 18,
   "metadata": {},
   "outputs": [],
   "source": [
    "all_texts = np.concatenate([df_train['text_content'].values, df_valid['text_content'].values])"
   ]
  },
  {
   "cell_type": "markdown",
   "metadata": {
    "id": "g0TYNpFhS7yJ"
   },
   "source": [
    "In a fastai `Transform` you can define:\n",
    "- an <code>encodes</code> method that is applied when you call the transform (a bit like the `forward` method in a `nn.Module`)\n",
    "- a <code>decodes</code> method that is applied when you call the `decode` method of the transform, if you need to decode anything for showing purposes (like converting ids to a text here)\n",
    "- a <code>setups</code> method that sets some inner state of the `Transform` (not needed here so we skip it)"
   ]
  },
  {
   "cell_type": "code",
   "execution_count": 19,
   "metadata": {
    "id": "cRSWiAlTS7yK"
   },
   "outputs": [],
   "source": [
    "class TransformersTokenizer(Transform):\n",
    "    def __init__(self, tokenizer): self.tokenizer = tokenizer\n",
    "    def encodes(self, x): \n",
    "        toks = self.tokenizer.tokenize(x)\n",
    "        return tensor(self.tokenizer.convert_tokens_to_ids(toks))\n",
    "    def decodes(self, x): return TitledStr(self.tokenizer.decode(x.cpu().numpy()))"
   ]
  },
  {
   "cell_type": "markdown",
   "metadata": {
    "id": "KwaNShtlS7yL"
   },
   "source": [
    "- in <code>decodes</code> we return a `TitledStr` object and not just a plain string. That's a fastai class that adds a `show` method to the string, which will allow us to use all the fastai show methods."
   ]
  },
  {
   "cell_type": "markdown",
   "metadata": {
    "id": "IBUWjEJwS7yM"
   },
   "source": [
    "You can then group your data with this `Transform` using a `TfmdLists`. It has an s in its name because it contains the training and validation set. We indicate the indices of the training set and the validation set with `splits` (here all the first indices until `len(df_train)` and then all the remaining indices):"
   ]
  },
  {
   "cell_type": "code",
   "execution_count": 20,
   "metadata": {
    "id": "yK41xU3US7yM",
    "outputId": "95be1673-f401-4ebf-f9b3-c39768c97cad"
   },
   "outputs": [
    {
     "name": "stderr",
     "output_type": "stream",
     "text": [
      "Token indices sequence length is longer than the specified maximum sequence length for this model (1674 > 1024). Running this sequence through the model will result in indexing errors\n"
     ]
    }
   ],
   "source": [
    "splits = [range_of(df_train), list(range(len(df_train), len(all_texts)))]\n",
    "tls = TfmdLists(all_texts, TransformersTokenizer(tokenizer), splits=splits, dl_type=LMDataLoader)"
   ]
  },
  {
   "cell_type": "code",
   "execution_count": 21,
   "metadata": {
    "id": "oUY7UoWKS7yO",
    "outputId": "228ddbe2-26f9-4fa9-b42a-bbc491ffb6dc"
   },
   "outputs": [
    {
     "data": {
      "text/plain": [
       "(tensor([628, 628, 628,  ..., 220, 628, 198]),\n",
       " tensor([  628,   628,   628,   628,   628,   628,   628,   628,   628,   628,\n",
       "           628,   628,   628,   628,   628,   628,   628,   628,   628,   628,\n",
       "           628,   628,   628,   628,   628,   628,   628,   628,   628,   628,\n",
       "           198,  8743,    62,  9527,  2304,    84,    62,  4965,  2454,    62,\n",
       "          5539,    13, 31126,   628,   198, 17121,  2574,  2304,    84,   930,\n",
       "         24278, 42242,  1581, 10239,  5984,    38, 10714, 10460,   198, 32637,\n",
       "           930,   767,  6420,   860, 44218,   220,   220,   220,   220,   220,\n",
       "           220,   220,   220,   198,    43, 31166, 26124,    31,  1326,    13,\n",
       "           785,   220,   220,   220,   220,   220,   220,   220,   198,   198,\n",
       "         43559,  3180,  1294,   220,   357, 18960,   352,   930,  1596,  4551,\n",
       "          8052,     8,   220,   220,   220,   220,  3683,  5890,   220,   220,\n",
       "           350,    13,    35,    13, 10936,  1305,   315,    74,  2364,   198,\n",
       "             7, 47853, 21516,     8,   198,   198, 10970, 37707,  6006, 32297,\n",
       "           357,  4653,  2812,   604,   930,   838,  4551,  8052,     8,   220,\n",
       "           220,   220,   220,  3683,  5890,   220,   220,   350,    13,    35,\n",
       "            13,  9953, 41946,   220,   220,   198,     7, 32895, 20051,     8,\n",
       "           198,   198,  6767,  5024, 29501,   357, 47172,  1351,  2599,   198,\n",
       "           198,  9693,  2390,  3698,  7597,   357,  4653,  2812,   860,   930,\n",
       "          4551,  8052,  1248,  1222,   678,     8,   220,   220,   220,   220,\n",
       "          3683,  5890,   220,   220,   350,    13,    35,    13, 36300,  9223,\n",
       "            66,   952,   220,   220,   198,     7, 13195,  1008,    33,  4951,\n",
       "             8,   198,   198, 34720,  9936, 39263,   357,  4653,  2812,   362,\n",
       "             8,   220,   220,   220,  3683,  5890,   220,   220,   350,    13,\n",
       "            35,    13,  5502, 19935,    64,   198,     7, 38747, 14041, 25315,\n",
       "             8,   198,   198,  3398,  2149,  4760,    46,   350,    13,    35,\n",
       "            13,   357,  4653,  2812,   352,    12,    18,   930,  8454,  4551,\n",
       "          8052,     8,   220,   220,  3683,  5890,   220,   220,   350,    13,\n",
       "            35,    13,  8547,  6656, 13549,   198,     7, 13175, 38747,     8,\n",
       "           198, 11782,    50,  3963,  3537, 31315,    56,   357, 18960,   362,\n",
       "             8, 15286,  3683, 36202,    13,   350,    13,    35,    13,  9953,\n",
       "         41946,   198,     7, 19399,     8,   198,    38,  2538,    36,   357,\n",
       "         18960,   352,     8, 15286,  3683, 36202,    13,   350,    13,    35,\n",
       "            13,  2940, 32767,   805,   198,     7, 19399,     8,   220,   198,\n",
       "            47, 14175,    50,  1222, 19644,  2200,  6234, 43029, 31716,   220,\n",
       "           220,   350,    13,    35,    13, 12930, 46905,   198,     7, 13175,\n",
       "         38747,     8,   198,   198, 45740, 17741, 29501,   357, 47172,  1351,\n",
       "          2599,   198,   198,  9148,  8120,   367,  1404, 20116, 43029, 31716,\n",
       "         36202,    13,  3899, 20291,   198,     7, 24524, 20051,     8,   350,\n",
       "            13,    35,    13, 13145, 23524,   292,   198,   198,    44,  2389,\n",
       "         27285, 15286,  3683,  5890, 36202,    13, 29761,  2295,   647,   488,\n",
       "           198,     7,    43,   507, 10494,     8,   220,   220,   220, 13708,\n",
       "         11801,   350,    13,    35,    13, 13855,  4767,   622,    66,  3846,\n",
       "            72,   198,   198,    39,  9864,  4462,  1222,  6006, 12298, 15286,\n",
       "          3683,  5890, 36202,    13,  3271,  1004,  2007,   198,     7, 38747,\n",
       "         20051,     8,   220,   220, 13708, 11801,   350,    13,    35,    13,\n",
       "          3271, 10011,   403,   368,  1236,   220,   198,   198,    54,  1340,\n",
       "         14418, 45386,  1565, 12844, 15286,  3683,  5890, 36202,    13, 42417,\n",
       "         21835,   198,     7, 13195,  1008, 14266,    13, 20051,     8,   220,\n",
       "           220,  6257, 11801,   350,    13,    35,    13,   978,   500,  7979,\n",
       "           316,  1462,   198,   198, 12161, 18060,    33, 20673, 20116, 43029,\n",
       "         31716, 36202,    13, 20320,   520, 49252,   198,     7, 38747, 20051,\n",
       "             8,   350,    13,    35,    13, 21946,  4312,   456,    78,   198,\n",
       "            49,  9864,  3185,  4503,  1847,    56,  3705,    36,   357, 41206,\n",
       "             8, 20116, 43029, 31716,   220,   220, 36202,    13,  8239, 41151,\n",
       "           198,     7, 47853, 20051,     8,   350,    13,    35,    13, 13145,\n",
       "         23524,   292,   198, 16879, 43029, 31716, 36202,    13, 26309,  5966,\n",
       "          2736,   220,   220,   220,   220,   220,   220,   220,   198,     7,\n",
       "         32895, 20051,     8,   350,    13,    35,    13,   509,    13,    42,\n",
       "            13,  2409,  1186,   198,  2200,  1847, 24483,  3698, 20116, 43029,\n",
       "         31716, 36202,    13, 25225, 32036,   198,     7, 35211,  6440, 20051,\n",
       "             8,   350,    13,    35,    13,  4186, 23975,   198,  1268, 42006,\n",
       "          2849, 43029, 31716, 36202,    13, 12803, 27788,   198,     7, 13195,\n",
       "          1008, 14266,    13, 20051,     8,   350,    13,    35,    13, 13145,\n",
       "         23524,   292,   198,    46,  4462,  1137,  6089,  1222, 39099, 20116,\n",
       "         43029, 31716, 36202,    13,   449,  1118,  3327,   198,     7, 13195,\n",
       "          1008, 14266,    13, 20051,     8,   350,    13,    35,    13,  5180,\n",
       "         11988,   805,   198, 23428, 31159,  7112,    36, 43029, 31716, 36202,\n",
       "            13, 17857, 28755,   198,     7,    44, 15548,     8,   357,  2860,\n",
       "          1859, 16223,     8,   350,    13,    35,    13,  4186, 23975,   198,\n",
       "            47,  8881,  2969, 16437,  7788, 32761, 20116, 43029, 31716, 36202,\n",
       "            13,  3271, 11646,  3469,   198,     7, 36063,   544, 20051,     8,\n",
       "           350,    13,    35,    13,  5180, 11988,   805,   198, 36981, 23917,\n",
       "             6,    51,   337,  7597, 13315,  3336,  1168, 12096,  1565, 20116,\n",
       "         43029, 31716, 36202,    13, 16902, 27436,   272,   198,     7, 36063,\n",
       "           544, 20051,     8,   350,    13,    35,    13, 14105, 13307,   198,\n",
       "          9148,  2885,  1546,  3963, 10188, 15513, 20116, 43029, 31716, 36202,\n",
       "            13,  8518, 11646,    14,  8743,  2531,   694,   198,     7, 30571,\n",
       "         23044,     8,   350,    13,    35,    13,  7970,  5164,   413,    68,\n",
       "          8770,   198,  5097, 11860, 20116, 43029, 31716, 36202,    13,  5278,\n",
       "          2744, 32009,   198,     7, 36063,   544, 20051,     8,   350,    13,\n",
       "            35,    13, 14105, 13307,   198,    43,  1581,  5258,  3963,   360,\n",
       "          7730,    51, 14165, 43029, 31716, 36202,    13, 22578,  6912, 22664,\n",
       "           365,   198,     7, 36063,   544, 20051,     8,   350,    13,    35,\n",
       "            13,  5180, 19097,   441,   198, 39371,    46,   376,  4503,  2937,\n",
       "         43029, 31716, 36202,    13,  3362, 49871,  5067,   198,     7, 32895,\n",
       "         20051, 40184,     8,   350,    13,    35,    13,  3700, 22604, 37525,\n",
       "           198,   198,    32,  2017,    25,   198,  1314,   400, 16328,  3683,\n",
       "         29200, 16446, 15434,   357,   292, 43029, 31716,     8, 15434,    25,\n",
       "           198,   198,  6690,  2360,  1143,   416,   465, 14495,   290,   262,\n",
       "          3683, 29200, 16446,   329,   465,  9284,   355,   262,   220,   198,\n",
       "            38, 22262, 31716,   329,    25,   366,  1268, 42006,  2849,     1,\n",
       "           357, 13195,  1008, 14266,  3895,  2646,     8,   198,   198,  1433,\n",
       "           400, 16328,  3683, 29200, 16446, 15434,   357,   292, 43029, 31716,\n",
       "             8, 15434,    25,   366,    33,   463,   732,  5847,    25,   383,\n",
       "          8229,   286,   262,   220,   198, 15708,   447,   251,   357, 12442,\n",
       "          8693, 22724,   828,   564,   250,    44,  8629, 16944, 15016,   447,\n",
       "           251,   357, 13175, 38747,    12,  6849,   828,   564,   250,    47,\n",
       "          5558,  1222,   220,   198,  6690,   260,   341,   447,   251,   357,\n",
       "            50, 11329,  9241,   532,  7369,   642,     8,   220,   628,   198]))"
      ]
     },
     "execution_count": 21,
     "metadata": {},
     "output_type": "execute_result"
    }
   ],
   "source": [
    "tls.train[0],tls.valid[0]"
   ]
  },
  {
   "cell_type": "code",
   "execution_count": 22,
   "metadata": {
    "id": "45ylL-0uS7yR",
    "outputId": "3afc6cd8-7dcd-4782-b5c4-02933ab90e38"
   },
   "outputs": [
    {
     "data": {
      "text/plain": [
       "(torch.Size([1674]), torch.Size([990]))"
      ]
     },
     "execution_count": 22,
     "metadata": {},
     "output_type": "execute_result"
    }
   ],
   "source": [
    "tls.tfms(tls.train.items[0]).shape, tls.tfms(tls.valid.items[0]).shape"
   ]
  },
  {
   "cell_type": "markdown",
   "metadata": {
    "id": "DYhfocUMS7yS"
   },
   "source": [
    "And we can have a look at both decodes using `show_at`:"
   ]
  },
  {
   "cell_type": "code",
   "execution_count": 23,
   "metadata": {
    "id": "OpWQuZjPS7yT",
    "outputId": "697f31ba-07c5-460e-b241-e8b4f1828744"
   },
   "outputs": [
    {
     "name": "stdout",
     "output_type": "stream",
     "text": [
      "\n",
      "\n",
      "\n",
      "\n",
      "\n",
      "\n",
      "\n",
      "\n",
      "\n",
      "\n",
      "\n",
      "\n",
      "\n",
      "\n",
      "\n",
      "\n",
      "\n",
      "\n",
      "\n",
      "\n",
      "\n",
      "\n",
      "\n",
      "\n",
      "\n",
      "\n",
      "\n",
      "\n",
      "\n",
      "\n",
      "\n",
      "\n",
      "\n",
      "\n",
      "\n",
      "\n",
      "\n",
      "\n",
      "\n",
      "\n",
      "\n",
      "\n",
      "\n",
      "\n",
      "Microsoft Word - William(Bill)Varney resume.doc\n",
      "\n",
      "\n",
      "William (Bill) Varney  \n",
      "   \n",
      "\n",
      "4 0 7  W H I TN E Y  S TR E T,  FRED ER ICKSBU RG,  T EXAS  7 8 6 2 4  \n",
      "\n",
      "  Telephone \n",
      "  830.456.9667 \n",
      " \n",
      "\n",
      "  Email   \n",
      "  William@WilliamVarney.com \n",
      "\n",
      "Profile \n",
      "Strongly experienced in business and management with over 25 years in the restaurant, hospitality, and \n",
      "in the commercial herb production and distribution industry as the highly successful founder and previ-\n",
      "ous owner of nationally acclaimed Fredericksburg Herb Farm. Achievement oriented with demonstrated \n",
      "leadership ability and creative problem solver to enable rapid growth within organizations.  Eager to uti-\n",
      "lize a goal-oriented, ethical and energetic approach to deliver high quality client service, products and \n",
      "results. Areas of expertise include:  consultative and solutions selling, retail, wholesale and mail orders \n",
      "expertise, artisan, innovator, regarded as one American’s foremost experts on the use of herbs and ac-\n",
      "complished entrepreneur.  \n",
      "\n",
      "Experience \n",
      "The Innovation Partners, PR Manager & Business Development, October 2011 to 2013 \n",
      "\n",
      "Responsible for communicating the “buzz” to the business world about Social Innovation.  Establish, \n",
      "and execute product launch events, responsible for marketing campaigns and advertising programs.  Re-\n",
      "sponsible for planning and coordinating webinars, presentations, and executive launches. Responsible \n",
      "for negotiating business with companies such Dell, Seton Hospitals, and Sister Cities International. \n",
      "Spearheaded relationships building with clients such Stanford University, Arizona State University and \n",
      "University of Texas. Negotiated and persuaded placement of Sandy Bates, founder of Innovation Part-\n",
      "ners, on The Board of The Edison Awards.  \n",
      "\n",
      "• Generated $1 million new sales, 2012 \n",
      "\n",
      "URBANherbal, Principal, November 2010 to present \n",
      " \n",
      "\n",
      "A Texas Hill Country herb shop and greenhouse that manufactures and sells personal care products, \n",
      "gourmet comestibles, and gardening items. Conduct classes, lectures and demonstration on use herbs, \n",
      "gardening, and cooking.  \n",
      " \n",
      "• Responsible for manufacturing, customizing, marketing and strategically promote/sales of Urban \n",
      "Herbal products and services.  \n",
      "• Responsible creating and maintenance of UrbanHerbal website.  \n",
      "• Conduct classes, lectures and demonstration on herbs, gardening, and cooking \n",
      "• Recognized by The San Antonio Express News, About.com, The Feast Blog and Taste SA. \n",
      " \n",
      "Brasserie Pevil Restaurant, San Antonio Texas, General Manger, March 2011 \n",
      "Oversee all aspects of Restaurant Operations to include food and beverage menu development, financial \n",
      "control, marketing, and sales. Provide leadership to a Team of 55 Associates, & 8 Managers. Developed \n",
      "extensive marketing and sales plan as well as comprehensive wine and beer programs. Developed open-\n",
      "ing budget from scratch to include sales, labor and operational expenses. \n",
      "\n",
      "\n",
      "\n",
      " PA G E  2  \n",
      "\n",
      " \n",
      "• Managed a staff of over 55 employees in a work space of 35,000 square ft.  \n",
      "• Oversaw hiring, training and retention of frontline employees. \n",
      "• Responsible for guest relations averaging approximately 175 guests per day. \n",
      "• Responsible for Texas Alcohol and Beverage Commission (TABC) regulated inventory of over \n",
      "\n",
      "$250K each day. \n",
      "• Collaborated with counterparts to include the Executive Chef and Retail Catering Manager. \n",
      "• Increased sales 45% within first month. Generated over $1.5 Million in sales in 6 months \n",
      "• Led marketing strategy with media website company in Texas and Public Relations firm in New \n",
      "\n",
      "York City. \n",
      "• Reported to and provide tactical and strategic strategy to the President (Owner)  and Vice Presi-\n",
      "\n",
      "dent of the Watermark Hotel. \n",
      " \n",
      "Fromage du Monde Restaurant, Fredericksburg, Texas, General Manger, 2009 to 2010 \n",
      "Oversee all aspects of Restaurant Operations to include food and beverage menu development, financial \n",
      "control, marketing, and sales. Provide leadership to a Team of  5 Associates, &  2 Managers. Developed \n",
      "extensive marketing and sales plan as well as comprehensive wine and beer programs. Developed open-\n",
      "ing budget from scratch to include sales, labor and operational expenses. \n",
      ". \n",
      "\n",
      "• Led the establishment from selling only a small category of food products and transitioned it to \n",
      "become a fully established restaurant. \n",
      "\n",
      "• Remodeled and redesigned the entire facility to transform it into a restaurant from a cheese \n",
      "shop. \n",
      "\n",
      "• Created new company logo, to help with the branding of the restaurant. \n",
      "• Created monthly newsletter for guests. \n",
      "• Increased Sales 74% in the first year. \n",
      "• Built the website, with shopping cart and social networking. \n",
      "\n",
      " \n",
      "\n",
      " \n",
      "Fredericksburg Herb Farm Corporation, Fredericksburg, Texas, President and Founder, 1985 to 2008 \n",
      "An herb farm dedicated to manufacturing over 600 personal care and gourmet food products with dis-\n",
      "tribution channels in the U.S., Canada and Japan. \n",
      " \n",
      "\n",
      "• Began operations in 1985 with a retail outlet in the city center and then expanded to a 5 acre \n",
      "farm and manufacturing facility. \n",
      "\n",
      "• Increased sales from 65K in the first year of operation to $1.5 million per year which included \n",
      "$300K in annual international sales. \n",
      "\n",
      "• Expanded herb farm to include a day spa, restaurant and a bed & breakfast. \n",
      "• Exhibited at trade shows in New York, California, Texas and Georgia. \n",
      "• Created monthly electronic newsletter that was distributed to over 5,000 individuals. \n",
      "• Appeared in numerous national, and local magazines and professional publications \n",
      "• Created  Private Label products, personal care, aromatherapy and gourmet foods for large and \n",
      "\n",
      "small companies in the U.S. and Japan \n",
      " \n",
      "Education \n",
      "Panhandle State University, 1982; B.S. in Business Administration; Minor in Horticulture \n",
      " \n",
      "\n",
      "\n",
      "\n",
      " PA G E  3  \n",
      "\n",
      "Skills and Professional Development \n",
      "Fluent in Microsoft tools        \n",
      "\n",
      "PUBLICATIONS: \n",
      "* Co-authored Along the Garden Path; * Co-authored Herbs; Growing and Using the Plants of Romance \n",
      " \n",
      "LECTURING EXPERIENCE: \n",
      "* The University of Texas at Austin * The Texas Agricultural Extension Department * The James Beard \n",
      "Foundation Workshop Series * The Garden Sources locations in Osaka, Kyoto, and Nagoya, Japan, \n",
      "Major cities in USA, * Cruise Ship \n",
      " \n",
      "PROFESSIONAL RECOGNITION: \n",
      "Texas Tech – Cover story Texas Techsan Magazine \n",
      "Rice University –Cover story Sallyport Magazine \n",
      "The Governor of Texas, Letter of applaud and recognition of business success from Gov. Ann Richards \n",
      "The James Beard Foundation – National recognition  \n",
      "Ernst & Young Entrepreneur of the Year \n",
      "Food Network \n",
      " \n",
      "AWARDS: \n",
      "* Gallo Wine Awards; Outstanding Savory Condiments * National Association for Specialty Food Trade \n",
      "* The Herb Society of America; Slow Food –Chefs Collaborative \n",
      " \n",
      "CERTIFICATIONS: \n",
      "Certified Nurseryman; The State of Texas  \n",
      " \n",
      "PROFESSIONAL DEVELOPMENT: \n",
      "Gillespie County Leadership Class of 2011 \n",
      "Talent Plus 2011 \n",
      " \n",
      "\n",
      "\n",
      "\n"
     ]
    }
   ],
   "source": [
    "show_at(tls.train, 0)"
   ]
  },
  {
   "cell_type": "code",
   "execution_count": 24,
   "metadata": {
    "id": "wTHRSk3jS7yU",
    "outputId": "2d2b4d9a-09e3-42b1-bec2-6e407e2d63e6"
   },
   "outputs": [
    {
     "name": "stdout",
     "output_type": "stream",
     "text": [
      "\n",
      "\n",
      "\n",
      "\n",
      "\n",
      "\n",
      "\n",
      "\n",
      "\n",
      "\n",
      "\n",
      "\n",
      "\n",
      "\n",
      "\n",
      "\n",
      "\n",
      "\n",
      "\n",
      "\n",
      "\n",
      "\n",
      "\n",
      "\n",
      "\n",
      "\n",
      "\n",
      "\n",
      "\n",
      "\n",
      "\n",
      "\n",
      "\n",
      "\n",
      "\n",
      "\n",
      "\n",
      "\n",
      "\n",
      "\n",
      "\n",
      "\n",
      "\n",
      "\n",
      "\n",
      "\n",
      "\n",
      "\n",
      "\n",
      "\n",
      "\n",
      "\n",
      "\n",
      "\n",
      "\n",
      "\n",
      "\n",
      "\n",
      "\n",
      "\n",
      "\n",
      "Will_Eliscu_Resume_2017.pages\n",
      "\n",
      "\n",
      "William Eliscu | ART DIRECTOR Member ADG Local 800\n",
      "323 | 791 9554        \n",
      "Lsqdesign@me.com       \n",
      "\n",
      "THIS IS US  (Season 1 | 17 Episodes)     Art Director   P.D. Gary Frutkoff\n",
      "(FOX Television)\n",
      "\n",
      "THE NIGHT SHIFT (Seasons 4 | 10 Episodes)     Art Director   P.D. Anthony Medina  \n",
      "(Sony Pictures)\n",
      "\n",
      "Television Credits (partial list):\n",
      "\n",
      "SHAMELESS (Seasons 9 | Episodes 18 & 19)     Art Director   P.D. Nina Ruscio  \n",
      "(WarnerBros)\n",
      "\n",
      "DIRTY JOHN (Seasons 2)    Art Director   P.D. Jeff Mossa\n",
      "(Universal Content Productions)\n",
      "\n",
      "CHICAGO P.D. (Seasons 1-3 | 61 Episodes)   Art Director   P.D. Greg Van Horn\n",
      "(NBCUniversal)\n",
      "SONS OF ANARCHY (Season 2) Assistant Art Dir. P.D. Anthony Medina\n",
      "(Fox)\n",
      "GLEE (Season 1) Assistant Art Dir. P.D. Mark Hutman\n",
      "(Fox) \n",
      "PARKS & RECREATION Graphic Designer   P.D. Ian Philips\n",
      "(NBCUniversal)\n",
      "\n",
      "Motion Picture Credits (partial list):\n",
      "\n",
      "BLACK HAT Lead Graphic Designer Dir. Michael Mann\n",
      "(Legendary Pictures) P.D. Guy Dyas\n",
      "\n",
      "MIDWAY Assistant Art Director Dir. Roland Emmerich\n",
      "(Lionsgate)    Hawaii Unit P.D. Kirk Petruccelli\n",
      "\n",
      "HOBBS & SHAW Assistant Art Director Dir. David Leitch\n",
      "(Universal Pictures)   Hawaii Unit P.D. David Scheunemann \n",
      "\n",
      "WONDER WOMAN 1984 Assistant Art Director Dir. Patty Jenkins\n",
      "(Warner Bros. Pictures)   DC Unit P.D. Aline Bonetto\n",
      "\n",
      "NEIGHBORS Lead Graphic Designer Dir. Nicholas Stoller\n",
      "(Universal Pictures) P.D. Julie Bergho\n",
      "ROBOPOCALYPSE (Development) Lead Graphic Designer   Dir. Steven Spielberg\n",
      "(FOX Pictures) P.D. Guy Dyas\n",
      "HER Graphic Designer Dir. Spike Jonze       \n",
      "(Sony Pictures) P.D. K.K. Barret\n",
      "REAL STEEL Lead Graphic Designer Dir. Shawn Levy\n",
      "(Touchstone Pictures) P.D. Tom Meyer\n",
      "INCEPTION Graphic Designer Dir. Christopher Nolan\n",
      "(Warner Bros. Pictures) P.D. Guy Dyas\n",
      "OBSERVE & REPORT Lead Graphic Designer Dir. Jody Hill\n",
      "(Warner Bros. Pictures) P.D. Chris Spellman\n",
      "VALKYRIE Graphic Designer Dir. Bryan Singer\n",
      "(MGM) (additional photography) P.D. Tom Meyer\n",
      "PINEAPPLE EXPRESS Lead Graphic Designer Dir. David Gordon Green\n",
      "(Columbia Pictures) P.D. Chris Spellman\n",
      "YOU DON'T MESS WITH THE ZOHAN Lead Graphic Designer Dir. Dennis Dugan\n",
      "(Columbia Pictures) P.D. Perry Blake\n",
      "BLADES OF GLORY Lead Graphic Designer Dir. Josh Gordon/Will Speck\n",
      "(DreamWorks) P.D. Stephen Lineweaver\n",
      "CLICK Lead Graphic Designer Dir. Frank Coraci\n",
      "(Columbia Pictures) P.D. Perry Blake\n",
      "LORDS OF DOGTOWN Graphic Designer Dir. Catherine Hardwicke\n",
      "(Columbia Pictures) P.D. Chris Gorack\n",
      "AUTO FOCUS Graphic Designer Dir. Paul Schrader\n",
      "(Sony Pictures Classics) P.D. James Chinlund\n",
      "\n",
      "Awards:\n",
      "15th Annual Art Directors Guild Awards (as Graphic Designer) Awards:\n",
      "\n",
      "Recognized by his peers and the Art Directors Guild for his contributions as the \n",
      "Graphic Designer for: \"INCEPTION\" (Warner Bros feature film)\n",
      "\n",
      "16th Annual Art Directors Guild Awards (as Graphic Designer) Awards: \"Budweiser: The Return of the \n",
      "King” (Super Bowl Commercial), “Mockingbird Lane” (NBCUniversal-TV), “Parks & \n",
      "Recreation” (Soda Tax - Season 5) \n",
      "\n",
      "\n",
      "\n"
     ]
    }
   ],
   "source": [
    "show_at(tls.valid, 0)"
   ]
  },
  {
   "cell_type": "markdown",
   "metadata": {
    "id": "UJ1kg3N2S7yU"
   },
   "source": [
    "The fastai library expects the data to be assembled in a `DataLoaders` object (something that has a training and validation dataloader)."
   ]
  },
  {
   "cell_type": "code",
   "execution_count": 25,
   "metadata": {
    "id": "6Pq4d0KVS7yV"
   },
   "outputs": [],
   "source": [
    "bs,sl = 4,256\n",
    "dls = tls.dataloaders(bs=bs, seq_len=sl)"
   ]
  },
  {
   "cell_type": "markdown",
   "metadata": {
    "id": "jMCVXccfS7yW"
   },
   "source": [
    "Note that you may have to reduce the batch size depending on your GPU RAM."
   ]
  },
  {
   "cell_type": "code",
   "execution_count": 26,
   "metadata": {
    "id": "Mf_qYvJeS7yW",
    "outputId": "ca879b22-0895-4072-e713-3e08203b59d9"
   },
   "outputs": [
    {
     "name": "stderr",
     "output_type": "stream",
     "text": [
      "C:\\Users\\ethan\\Downloads\\anaconda\\lib\\site-packages\\fastai\\torch_core.py:500: FutureWarning: The series.append method is deprecated and will be removed from pandas in a future version. Use pandas.concat instead.\n",
      "  ax = ax.append(pd.Series({label: o}))\n",
      "C:\\Users\\ethan\\Downloads\\anaconda\\lib\\site-packages\\fastai\\torch_core.py:500: FutureWarning: The series.append method is deprecated and will be removed from pandas in a future version. Use pandas.concat instead.\n",
      "  ax = ax.append(pd.Series({label: o}))\n",
      "C:\\Users\\ethan\\Downloads\\anaconda\\lib\\site-packages\\fastai\\torch_core.py:500: FutureWarning: The series.append method is deprecated and will be removed from pandas in a future version. Use pandas.concat instead.\n",
      "  ax = ax.append(pd.Series({label: o}))\n",
      "C:\\Users\\ethan\\Downloads\\anaconda\\lib\\site-packages\\fastai\\torch_core.py:500: FutureWarning: The series.append method is deprecated and will be removed from pandas in a future version. Use pandas.concat instead.\n",
      "  ax = ax.append(pd.Series({label: o}))\n"
     ]
    },
    {
     "data": {
      "text/html": [
       "<table border=\"1\" class=\"dataframe\">\n",
       "  <thead>\n",
       "    <tr style=\"text-align: right;\">\n",
       "      <th></th>\n",
       "      <th>text</th>\n",
       "      <th>text_</th>\n",
       "    </tr>\n",
       "  </thead>\n",
       "  <tbody>\n",
       "    <tr>\n",
       "      <th>0</th>\n",
       "      <td>\\n\\n\\n\\n\\n\\n\\n\\n\\n\\n\\n\\n\\n\\n\\n\\n\\n\\n\\n\\n\\n\\n\\n\\n\\n\\n\\n\\n\\n\\n\\n\\n\\n\\n\\n\\n\\n\\n\\n\\n\\n\\n\\n\\n\\n\\n                 \\n                          James Person \\n\\nRockingham, VA 22801 ⎜555.555.5555 ⎜sample@dukes.jmu.edu  \\n \\n\\n \\nSUMMARY:  \\n\\n 6 years management experience including staff supervision, communication with senior personnel, high stress \\nmultitasking environments, troubleshooting electronic systems \\n\\n Interest in Geographic Information Systems, Natural Resource Management, Urban Planning \\n\\n Proficient in ArcGIS, R Statistical Software, GPS, interpersonal communication, staff supervision, \\nquality assurance \\n\\nEDUCATION: \\nJames Madison University, Harrisonburg, Virginia                                         Expected May 2019 \\n\\nB</td>\n",
       "      <td>\\n\\n\\n\\n\\n\\n\\n\\n\\n\\n\\n\\n\\n\\n\\n\\n\\n\\n\\n\\n\\n\\n\\n\\n\\n\\n\\n\\n\\n\\n\\n\\n\\n\\n\\n\\n\\n\\n\\n\\n\\n\\n\\n\\n                 \\n                          James Person \\n\\nRockingham, VA 22801 ⎜555.555.5555 ⎜sample@dukes.jmu.edu  \\n \\n\\n \\nSUMMARY:  \\n\\n 6 years management experience including staff supervision, communication with senior personnel, high stress \\nmultitasking environments, troubleshooting electronic systems \\n\\n Interest in Geographic Information Systems, Natural Resource Management, Urban Planning \\n\\n Proficient in ArcGIS, R Statistical Software, GPS, interpersonal communication, staff supervision, \\nquality assurance \\n\\nEDUCATION: \\nJames Madison University, Harrisonburg, Virginia                                         Expected May 2019 \\n\\nBachelor</td>\n",
       "    </tr>\n",
       "    <tr>\n",
       "      <th>1</th>\n",
       "      <td>Y.-S., Matthews, P.G. &amp; Hubbard, E.M. \\n(2018, March). Neurocognitive relationships between nonsymbolic and symbolic ratio \\nprocessing in children and adults. Poster presented at the Cognitive Neuroscience Society \\nMeeting, Boston, MA. \\n\\nKalish, C. W., Meng, R, Seng, A. &amp; Matthews P. G. (2017, July). Optimizing mathematics learning \\nEffects of continuous and nominal practice format on transfer of arithmetic skills. Poster \\npresented at the 39th Annual Conference of the Cognitive Science Society. London, UK. \\n\\nMeng, R. &amp; Matthews, P. G. (2017, July). Presentation format modulates adults’ automatic processing \\nof proportions. Poster presented at the 39th Annual Conference of the Cognitive Science \\nSociety. London, UK. \\n\\nHubbard, E. M., Binzak, J. V. &amp; Matthews, P. G. (2017, July). Grounding fractions in the RPS: \\nCommon distance effects for symbolic fractions and non-symbolic ratios suggest shared \\nprocessing. Talk presented at the 5th annual Midwest Meeting on Mathemat</td>\n",
       "      <td>.-S., Matthews, P.G. &amp; Hubbard, E.M. \\n(2018, March). Neurocognitive relationships between nonsymbolic and symbolic ratio \\nprocessing in children and adults. Poster presented at the Cognitive Neuroscience Society \\nMeeting, Boston, MA. \\n\\nKalish, C. W., Meng, R, Seng, A. &amp; Matthews P. G. (2017, July). Optimizing mathematics learning \\nEffects of continuous and nominal practice format on transfer of arithmetic skills. Poster \\npresented at the 39th Annual Conference of the Cognitive Science Society. London, UK. \\n\\nMeng, R. &amp; Matthews, P. G. (2017, July). Presentation format modulates adults’ automatic processing \\nof proportions. Poster presented at the 39th Annual Conference of the Cognitive Science \\nSociety. London, UK. \\n\\nHubbard, E. M., Binzak, J. V. &amp; Matthews, P. G. (2017, July). Grounding fractions in the RPS: \\nCommon distance effects for symbolic fractions and non-symbolic ratios suggest shared \\nprocessing. Talk presented at the 5th annual Midwest Meeting on Mathematical</td>\n",
       "    </tr>\n",
       "  </tbody>\n",
       "</table>"
      ],
      "text/plain": [
       "<IPython.core.display.HTML object>"
      ]
     },
     "metadata": {},
     "output_type": "display_data"
    }
   ],
   "source": [
    "dls.show_batch(max_n=2)"
   ]
  },
  {
   "cell_type": "markdown",
   "metadata": {
    "id": "FnLsJQ8lS7yX"
   },
   "source": [
    "Another way to gather the data is to preprocess the texts once and for all and only use the transform to decode the tensors to texts:"
   ]
  },
  {
   "cell_type": "code",
   "execution_count": 27,
   "metadata": {
    "id": "HFkHpYacS7yY",
    "outputId": "e0b51d85-fede-4ec4-b694-5a5492f87a86"
   },
   "outputs": [
    {
     "data": {
      "text/html": [
       "\n",
       "<style>\n",
       "    /* Turns off some styling */\n",
       "    progress {\n",
       "        /* gets rid of default border in Firefox and Opera. */\n",
       "        border: none;\n",
       "        /* Needs to be in here for Safari polyfill so background images work as expected. */\n",
       "        background-size: auto;\n",
       "    }\n",
       "    .progress-bar-interrupted, .progress-bar-interrupted::-webkit-progress-bar {\n",
       "        background: #F44336;\n",
       "    }\n",
       "</style>\n"
      ],
      "text/plain": [
       "<IPython.core.display.HTML object>"
      ]
     },
     "metadata": {},
     "output_type": "display_data"
    },
    {
     "data": {
      "text/html": [
       "\n",
       "    <div>\n",
       "      <progress value='1403' class='' max='1403' style='width:300px; height:20px; vertical-align: middle;'></progress>\n",
       "      100.00% [1403/1403 00:22<00:00]\n",
       "    </div>\n",
       "    "
      ],
      "text/plain": [
       "<IPython.core.display.HTML object>"
      ]
     },
     "metadata": {},
     "output_type": "display_data"
    }
   ],
   "source": [
    "def tokenize(text):\n",
    "    toks = tokenizer.tokenize(text)\n",
    "    return tensor(tokenizer.convert_tokens_to_ids(toks))\n",
    "\n",
    "tokenized = [tokenize(t) for t in progress_bar(all_texts)]"
   ]
  },
  {
   "cell_type": "markdown",
   "metadata": {
    "id": "IA3oL_uRS7yY"
   },
   "source": [
    "Now we change the previous `Tokenizer` like this:"
   ]
  },
  {
   "cell_type": "code",
   "execution_count": 28,
   "metadata": {
    "id": "M5Ag72CtS7yZ"
   },
   "outputs": [],
   "source": [
    "class TransformersTokenizer(Transform):\n",
    "    def __init__(self, tokenizer): self.tokenizer = tokenizer\n",
    "    def encodes(self, x): \n",
    "        return x if isinstance(x, Tensor) else tokenize(x)\n",
    "        \n",
    "    def decodes(self, x): return TitledStr(self.tokenizer.decode(x.cpu().numpy()))"
   ]
  },
  {
   "cell_type": "markdown",
   "metadata": {
    "id": "Z9IA5tx0S7yZ"
   },
   "source": [
    "In the <code>encodes</code> method, we still account for the case where we get something that's not already tokenized, just in case we were to build a dataset with new texts using this transform."
   ]
  },
  {
   "cell_type": "code",
   "execution_count": 29,
   "metadata": {
    "id": "pVy4oJ15S7ya"
   },
   "outputs": [],
   "source": [
    "tls = TfmdLists(tokenized, TransformersTokenizer(tokenizer), splits=splits, dl_type=LMDataLoader)\n",
    "dls = tls.dataloaders(bs=bs, seq_len=sl)"
   ]
  },
  {
   "cell_type": "code",
   "execution_count": 30,
   "metadata": {
    "id": "3LD5C4KrS7yb",
    "outputId": "882021f6-e89d-497e-b050-5cd6b664f8e6"
   },
   "outputs": [
    {
     "name": "stderr",
     "output_type": "stream",
     "text": [
      "C:\\Users\\ethan\\Downloads\\anaconda\\lib\\site-packages\\fastai\\torch_core.py:500: FutureWarning: The series.append method is deprecated and will be removed from pandas in a future version. Use pandas.concat instead.\n",
      "  ax = ax.append(pd.Series({label: o}))\n",
      "C:\\Users\\ethan\\Downloads\\anaconda\\lib\\site-packages\\fastai\\torch_core.py:500: FutureWarning: The series.append method is deprecated and will be removed from pandas in a future version. Use pandas.concat instead.\n",
      "  ax = ax.append(pd.Series({label: o}))\n",
      "C:\\Users\\ethan\\Downloads\\anaconda\\lib\\site-packages\\fastai\\torch_core.py:500: FutureWarning: The series.append method is deprecated and will be removed from pandas in a future version. Use pandas.concat instead.\n",
      "  ax = ax.append(pd.Series({label: o}))\n",
      "C:\\Users\\ethan\\Downloads\\anaconda\\lib\\site-packages\\fastai\\torch_core.py:500: FutureWarning: The series.append method is deprecated and will be removed from pandas in a future version. Use pandas.concat instead.\n",
      "  ax = ax.append(pd.Series({label: o}))\n"
     ]
    },
    {
     "data": {
      "text/html": [
       "<table border=\"1\" class=\"dataframe\">\n",
       "  <thead>\n",
       "    <tr style=\"text-align: right;\">\n",
       "      <th></th>\n",
       "      <th>text</th>\n",
       "      <th>text_</th>\n",
       "    </tr>\n",
       "  </thead>\n",
       "  <tbody>\n",
       "    <tr>\n",
       "      <th>0</th>\n",
       "      <td>\\n\\n\\n\\n\\n\\n\\n\\n\\n\\n\\n\\n\\n\\n\\n\\n\\n\\n\\n\\n\\n\\n\\n\\n\\n\\n\\n\\n\\n\\n\\n\\n\\n\\n\\n\\n\\n\\n\\n\\n\\n\\n\\nMicrosoft Word - 2022J+C-Resume.doc\\n\\n\\n 1 \\n\\nJugnet + Clairet   \\n \\nAmerican artists, French born \\n\\nWork in multiple media. Live in New Mexico \\n\\n \\n\\nEducation, Professorships and Jury Appointments \\n\\nAnne Marie Jugnet \\n\\nb. May 25, 1958 - La Clayette, France \\n\\nM.A. (DNSEP Art), National Art School of Bourges,1981 \\n\\nProfessor, the Art School of Versailles, 1984-87 \\n\\nProfessor, the National Art School of Bourges,1985-1991 \\n\\nProfessor, the National Art School of Nancy, 1993-94 \\n\\nProfessor, the Architecture School of Saint-Etienne, 1994-2001 \\n\\nMember of the Jury of FIACRE (National Art Grants), French Ministry of Culture, 2000-03 \\n\\nVice-President of the Jury of the French Academy in Rome (Villa Medici), Italy, 2014 \\n\\nAlain Clairet \\n\\nb. July 7,</td>\n",
       "      <td>\\n\\n\\n\\n\\n\\n\\n\\n\\n\\n\\n\\n\\n\\n\\n\\n\\n\\n\\n\\n\\n\\n\\n\\n\\n\\n\\n\\n\\n\\n\\n\\n\\n\\n\\n\\n\\n\\n\\n\\n\\nMicrosoft Word - 2022J+C-Resume.doc\\n\\n\\n 1 \\n\\nJugnet + Clairet   \\n \\nAmerican artists, French born \\n\\nWork in multiple media. Live in New Mexico \\n\\n \\n\\nEducation, Professorships and Jury Appointments \\n\\nAnne Marie Jugnet \\n\\nb. May 25, 1958 - La Clayette, France \\n\\nM.A. (DNSEP Art), National Art School of Bourges,1981 \\n\\nProfessor, the Art School of Versailles, 1984-87 \\n\\nProfessor, the National Art School of Bourges,1985-1991 \\n\\nProfessor, the National Art School of Nancy, 1993-94 \\n\\nProfessor, the Architecture School of Saint-Etienne, 1994-2001 \\n\\nMember of the Jury of FIACRE (National Art Grants), French Ministry of Culture, 2000-03 \\n\\nVice-President of the Jury of the French Academy in Rome (Villa Medici), Italy, 2014 \\n\\nAlain Clairet \\n\\nb. July 7, 1950</td>\n",
       "    </tr>\n",
       "    <tr>\n",
       "      <th>1</th>\n",
       "      <td>, and \\nA.V. Lun’kov, p. 633-635. Book of Scientific Papers, Publishing House, Irkustsk State Technical \\nUniversity, Irkutsk.  \\n \\nOetelaar, G.A. \\n2003 Engaging Indigenous People and Archaeologists: Some Challenges. In Indigenous People \\nand Archaeology: Honouring the Past, Discussing the Present, Building for the Future, edited by \\nT.T. Peck, E. Siegfried, and G.A. Oetelaar, pp. 2-7. The Archaeological Association of the \\nUniversity of Calgary, Calgary. \\n \\nOetelaar, G.A., R. Honsberger and B. Starlight \\n2003 Looking to Yesterday, Building for Tomorrow: A Cooperative Venture between the \\nUniversity of Calgary, Carma Developers Ltd, and the Tsuu t'ina Nation. In Archaeology into the \\nNew Millenium: Public or Perish, edited by B Cripps, R. Dickau, L. Hartery, M. Lobb, D. \\nMeyer, L. Nicholls, and T. Varney,</td>\n",
       "      <td>and \\nA.V. Lun’kov, p. 633-635. Book of Scientific Papers, Publishing House, Irkustsk State Technical \\nUniversity, Irkutsk.  \\n \\nOetelaar, G.A. \\n2003 Engaging Indigenous People and Archaeologists: Some Challenges. In Indigenous People \\nand Archaeology: Honouring the Past, Discussing the Present, Building for the Future, edited by \\nT.T. Peck, E. Siegfried, and G.A. Oetelaar, pp. 2-7. The Archaeological Association of the \\nUniversity of Calgary, Calgary. \\n \\nOetelaar, G.A., R. Honsberger and B. Starlight \\n2003 Looking to Yesterday, Building for Tomorrow: A Cooperative Venture between the \\nUniversity of Calgary, Carma Developers Ltd, and the Tsuu t'ina Nation. In Archaeology into the \\nNew Millenium: Public or Perish, edited by B Cripps, R. Dickau, L. Hartery, M. Lobb, D. \\nMeyer, L. Nicholls, and T. Varney, pp</td>\n",
       "    </tr>\n",
       "  </tbody>\n",
       "</table>"
      ],
      "text/plain": [
       "<IPython.core.display.HTML object>"
      ]
     },
     "metadata": {},
     "output_type": "display_data"
    }
   ],
   "source": [
    "dls.show_batch(max_n=2)"
   ]
  },
  {
   "cell_type": "markdown",
   "metadata": {
    "id": "rYfamE8bS7yb"
   },
   "source": [
    "### Fine-tuning the model"
   ]
  },
  {
   "cell_type": "markdown",
   "metadata": {
    "id": "cOxDdL3cS7yc"
   },
   "source": [
    "The HuggingFace model will return a tuple in outputs, with the actual predictions and some additional activations (should we want to use them in some regularization scheme). To work inside the fastai training loop, we will need to drop those using a `Callback`: we use those to alter the behavior of the training loop."
   ]
  },
  {
   "cell_type": "code",
   "execution_count": 31,
   "metadata": {
    "id": "0CAgmJeMS7yk"
   },
   "outputs": [],
   "source": [
    "class DropOutput(Callback):\n",
    "    def after_pred(self): self.learn.pred = self.pred[0]"
   ]
  },
  {
   "cell_type": "code",
   "execution_count": 32,
   "metadata": {
    "id": "FB9-AB68S7yo"
   },
   "outputs": [],
   "source": [
    "learn = Learner(dls, model, loss_func=CrossEntropyLossFlat(), cbs=[DropOutput], metrics=Perplexity()).to_fp16()"
   ]
  },
  {
   "cell_type": "code",
   "execution_count": 32,
   "metadata": {
    "id": "34icCnV_S7yq",
    "outputId": "b2ae760b-46ca-46c2-d04c-fe3d6d9bcd22"
   },
   "outputs": [
    {
     "name": "stderr",
     "output_type": "stream",
     "text": [
      "C:\\Users\\ethan\\Downloads\\anaconda\\lib\\site-packages\\torch\\autocast_mode.py:162: UserWarning: User provided device_type of 'cuda', but CUDA is not available. Disabling\n",
      "  warnings.warn('User provided device_type of \\'cuda\\', but CUDA is not available. Disabling')\n",
      "C:\\Users\\ethan\\Downloads\\anaconda\\lib\\site-packages\\torch\\cuda\\amp\\grad_scaler.py:115: UserWarning: torch.cuda.amp.GradScaler is enabled, but CUDA is not available.  Disabling.\n",
      "  warnings.warn(\"torch.cuda.amp.GradScaler is enabled, but CUDA is not available.  Disabling.\")\n"
     ]
    },
    {
     "data": {
      "text/html": [
       "\n",
       "<style>\n",
       "    /* Turns off some styling */\n",
       "    progress {\n",
       "        /* gets rid of default border in Firefox and Opera. */\n",
       "        border: none;\n",
       "        /* Needs to be in here for Safari polyfill so background images work as expected. */\n",
       "        background-size: auto;\n",
       "    }\n",
       "    .progress-bar-interrupted, .progress-bar-interrupted::-webkit-progress-bar {\n",
       "        background: #F44336;\n",
       "    }\n",
       "</style>\n"
      ],
      "text/plain": [
       "<IPython.core.display.HTML object>"
      ]
     },
     "metadata": {},
     "output_type": "display_data"
    },
    {
     "data": {
      "text/html": [],
      "text/plain": [
       "<IPython.core.display.HTML object>"
      ]
     },
     "metadata": {},
     "output_type": "display_data"
    },
    {
     "data": {
      "text/plain": [
       "(#2) [3.6523540019989014,38.56534194946289]"
      ]
     },
     "execution_count": 32,
     "metadata": {},
     "output_type": "execute_result"
    }
   ],
   "source": [
    "learn.validate()"
   ]
  },
  {
   "cell_type": "markdown",
   "metadata": {
    "id": "luB1c7JDS7yr"
   },
   "source": [
    "This lists the validation loss and metrics (so 26.6 as perplexity is kind of amazing)."
   ]
  },
  {
   "cell_type": "code",
   "execution_count": 33,
   "metadata": {
    "id": "uyZ7-5uLS7ys",
    "outputId": "11c3165f-62dc-472e-acf7-5169d82118c7"
   },
   "outputs": [
    {
     "data": {
      "text/html": [
       "\n",
       "<style>\n",
       "    /* Turns off some styling */\n",
       "    progress {\n",
       "        /* gets rid of default border in Firefox and Opera. */\n",
       "        border: none;\n",
       "        /* Needs to be in here for Safari polyfill so background images work as expected. */\n",
       "        background-size: auto;\n",
       "    }\n",
       "    .progress-bar-interrupted, .progress-bar-interrupted::-webkit-progress-bar {\n",
       "        background: #F44336;\n",
       "    }\n",
       "</style>\n"
      ],
      "text/plain": [
       "<IPython.core.display.HTML object>"
      ]
     },
     "metadata": {},
     "output_type": "display_data"
    },
    {
     "data": {
      "text/html": [],
      "text/plain": [
       "<IPython.core.display.HTML object>"
      ]
     },
     "metadata": {},
     "output_type": "display_data"
    },
    {
     "data": {
      "text/plain": [
       "SuggestedLRs(valley=0.00015848931798245758)"
      ]
     },
     "execution_count": 33,
     "metadata": {},
     "output_type": "execute_result"
    },
    {
     "data": {
      "image/png": "[encoded data removed]",
      "text/plain": [
       "<Figure size 432x288 with 1 Axes>"
      ]
     },
     "metadata": {
      "needs_background": "light"
     },
     "output_type": "display_data"
    }
   ],
   "source": [
    "learn.lr_find()"
   ]
  },
  {
   "cell_type": "markdown",
   "metadata": {
    "id": "_PbLnIe8S7y7"
   },
   "source": [
    "The learning rate finder curve suggests picking something between 1e-4 and 1e-3."
   ]
  },
  {
   "cell_type": "code",
   "execution_count": 33,
   "metadata": {
    "id": "hqctYg93S7y8",
    "outputId": "a2c73294-f7d8-4704-da3d-ae6285fd1b9e"
   },
   "outputs": [
    {
     "name": "stderr",
     "output_type": "stream",
     "text": [
      "C:\\Users\\ethan\\Downloads\\anaconda\\lib\\site-packages\\torch\\autocast_mode.py:162: UserWarning: User provided device_type of 'cuda', but CUDA is not available. Disabling\n",
      "  warnings.warn('User provided device_type of \\'cuda\\', but CUDA is not available. Disabling')\n",
      "C:\\Users\\ethan\\Downloads\\anaconda\\lib\\site-packages\\torch\\cuda\\amp\\grad_scaler.py:115: UserWarning: torch.cuda.amp.GradScaler is enabled, but CUDA is not available.  Disabling.\n",
      "  warnings.warn(\"torch.cuda.amp.GradScaler is enabled, but CUDA is not available.  Disabling.\")\n"
     ]
    },
    {
     "data": {
      "text/html": [
       "\n",
       "<style>\n",
       "    /* Turns off some styling */\n",
       "    progress {\n",
       "        /* gets rid of default border in Firefox and Opera. */\n",
       "        border: none;\n",
       "        /* Needs to be in here for Safari polyfill so background images work as expected. */\n",
       "        background-size: auto;\n",
       "    }\n",
       "    .progress-bar-interrupted, .progress-bar-interrupted::-webkit-progress-bar {\n",
       "        background: #F44336;\n",
       "    }\n",
       "</style>\n"
      ],
      "text/plain": [
       "<IPython.core.display.HTML object>"
      ]
     },
     "metadata": {},
     "output_type": "display_data"
    },
    {
     "data": {
      "text/html": [
       "<table border=\"1\" class=\"dataframe\">\n",
       "  <thead>\n",
       "    <tr style=\"text-align: left;\">\n",
       "      <th>epoch</th>\n",
       "      <th>train_loss</th>\n",
       "      <th>valid_loss</th>\n",
       "      <th>perplexity</th>\n",
       "      <th>time</th>\n",
       "    </tr>\n",
       "  </thead>\n",
       "  <tbody>\n",
       "    <tr>\n",
       "      <td>0</td>\n",
       "      <td>2.921721</td>\n",
       "      <td>2.847275</td>\n",
       "      <td>17.240732</td>\n",
       "      <td>11:25:48</td>\n",
       "    </tr>\n",
       "  </tbody>\n",
       "</table>"
      ],
      "text/plain": [
       "<IPython.core.display.HTML object>"
      ]
     },
     "metadata": {},
     "output_type": "display_data"
    }
   ],
   "source": [
    "learn.fit_one_cycle(1, 1e-4)"
   ]
  },
  {
   "cell_type": "code",
   "execution_count": 34,
   "metadata": {},
   "outputs": [
    {
     "data": {
      "text/plain": [
       "Path('models/resumes_classifier_transformers.pth')"
      ]
     },
     "execution_count": 34,
     "metadata": {},
     "output_type": "execute_result"
    }
   ],
   "source": [
    "learn.save('resumes_classifier_transformers')"
   ]
  },
  {
   "cell_type": "code",
   "execution_count": 35,
   "metadata": {
    "id": "1X6j5ARHS7y-",
    "outputId": "b9807977-9481-4700-89f1-ad361cae5c1a"
   },
   "outputs": [
    {
     "data": {
      "text/html": [
       "<div>\n",
       "<style scoped>\n",
       "    .dataframe tbody tr th:only-of-type {\n",
       "        vertical-align: middle;\n",
       "    }\n",
       "\n",
       "    .dataframe tbody tr th {\n",
       "        vertical-align: top;\n",
       "    }\n",
       "\n",
       "    .dataframe thead th {\n",
       "        text-align: right;\n",
       "    }\n",
       "</style>\n",
       "<table border=\"1\" class=\"dataframe\">\n",
       "  <thead>\n",
       "    <tr style=\"text-align: right;\">\n",
       "      <th></th>\n",
       "      <th>sample_id</th>\n",
       "      <th>record_id</th>\n",
       "      <th>local_filegroup</th>\n",
       "      <th>local_filestem</th>\n",
       "      <th>file_exts</th>\n",
       "      <th>text_language</th>\n",
       "      <th>filesize</th>\n",
       "      <th>textsize</th>\n",
       "      <th>num_pages</th>\n",
       "      <th>is_resume</th>\n",
       "      <th>text_content</th>\n",
       "    </tr>\n",
       "  </thead>\n",
       "  <tbody>\n",
       "    <tr>\n",
       "      <th>1520</th>\n",
       "      <td>d002339</td>\n",
       "      <td>&lt;urn:uuid:4fb5e1f1-339d-4d96-a8e0-bc232e2010bf&gt;</td>\n",
       "      <td>d002</td>\n",
       "      <td>d002339</td>\n",
       "      <td>.pdf/.txt</td>\n",
       "      <td>en</td>\n",
       "      <td>262974</td>\n",
       "      <td>3014</td>\n",
       "      <td>1.0</td>\n",
       "      <td>2.0</td>\n",
       "      <td>\\n\\n\\n\\n\\n\\n\\n\\n\\n\\n\\n\\n\\n\\n\\n\\n\\n\\n\\n\\n\\n\\n\\n\\n\\n\\n\\n\\n\\n\\n\\n\\n\\n\\n\\n\\n\\n\\n\\n\\n\\n\\n\\n\\n\\n\\n\\n\\n\\n\\n\\n\\n\\n\\n\\n\\n\\n\\n\\n\\n\\nWill_Eliscu_Resume_2017.pages\\n\\n\\nWilliam Eliscu | ART DIRECTOR Member ADG Local 800\\n323 | 791 9554        \\nLsqdesign@me.com       \\n\\nTHIS IS US  (Season 1 | 17 Episodes)     Art Director   P.D. Gary Frutkoff\\n(FOX Television)\\n\\nTHE NIGHT SHIFT (Seasons 4 | 10 Episodes)     Art Director   P.D. Anthony Medina  \\n(Sony Pictures)\\n\\nTelevision Credits (partial list):\\n\\nSHAMELESS (Seasons 9 | Episodes 18 &amp; 19)     Art Director   P.D. Nina Ruscio  \\n(WarnerBros)\\n\\nDIR...</td>\n",
       "    </tr>\n",
       "  </tbody>\n",
       "</table>\n",
       "</div>"
      ],
      "text/plain": [
       "     sample_id                                        record_id  \\\n",
       "1520   d002339  <urn:uuid:4fb5e1f1-339d-4d96-a8e0-bc232e2010bf>   \n",
       "\n",
       "     local_filegroup local_filestem  file_exts text_language  filesize  \\\n",
       "1520            d002        d002339  .pdf/.txt            en    262974   \n",
       "\n",
       "      textsize  num_pages  is_resume  \\\n",
       "1520      3014        1.0        2.0   \n",
       "\n",
       "                                                                                                                                                                                                                                                                                                                                                                                                                                                                                                                                                                                                                 text_content  \n",
       "1520  \\n\\n\\n\\n\\n\\n\\n\\n\\n\\n\\n\\n\\n\\n\\n\\n\\n\\n\\n\\n\\n\\n\\n\\n\\n\\n\\n\\n\\n\\n\\n\\n\\n\\n\\n\\n\\n\\n\\n\\n\\n\\n\\n\\n\\n\\n\\n\\n\\n\\n\\n\\n\\n\\n\\n\\n\\n\\n\\n\\n\\nWill_Eliscu_Resume_2017.pages\\n\\n\\nWilliam Eliscu | ART DIRECTOR Member ADG Local 800\\n323 | 791 9554        \\nLsqdesign@me.com       \\n\\nTHIS IS US  (Season 1 | 17 Episodes)     Art Director   P.D. Gary Frutkoff\\n(FOX Television)\\n\\nTHE NIGHT SHIFT (Seasons 4 | 10 Episodes)     Art Director   P.D. Anthony Medina  \\n(Sony Pictures)\\n\\nTelevision Credits (partial list):\\n\\nSHAMELESS (Seasons 9 | Episodes 18 & 19)     Art Director   P.D. Nina Ruscio  \\n(WarnerBros)\\n\\nDIR...  "
      ]
     },
     "execution_count": 35,
     "metadata": {},
     "output_type": "execute_result"
    }
   ],
   "source": [
    "df_valid.head(1)"
   ]
  },
  {
   "cell_type": "markdown",
   "metadata": {
    "id": "DOqUU7pFS7y_"
   },
   "source": [
    "Article seems to begin with new line and the title between = signs, so we will mimic that:"
   ]
  },
  {
   "cell_type": "code",
   "execution_count": 64,
   "metadata": {
    "id": "4OzAAuZTS7y_"
   },
   "outputs": [],
   "source": [
    "prompt = \"WORK/VOLUNTEERING Fasca — VolunteerJune 2021 - August 2021100 hours of community service: cleaning the TECRO building, assisting with weekly events, library assistance\""
   ]
  },
  {
   "cell_type": "markdown",
   "metadata": {
    "id": "DpYtjmJ-S7y_"
   },
   "source": [
    "The prompt needs to be tokenized and numericalized, so we use the same function as before to do this, before we use the `generate` method of the model."
   ]
  },
  {
   "cell_type": "code",
   "execution_count": 65,
   "metadata": {
    "id": "dY9WTY9GS7zA",
    "outputId": "83bf8376-c3cd-4f60-a120-957261417213"
   },
   "outputs": [
    {
     "data": {
      "text/plain": [
       "torch.Size([1, 37])"
      ]
     },
     "execution_count": 65,
     "metadata": {},
     "output_type": "execute_result"
    }
   ],
   "source": [
    "prompt_ids = tokenizer.encode(prompt)\n",
    "inp = tensor(prompt_ids)[None]\n",
    "inp.shape"
   ]
  },
  {
   "cell_type": "code",
   "execution_count": 66,
   "metadata": {
    "id": "PgWXg-E8S7zA",
    "outputId": "2fcbe143-8cd0-4b7d-8ec8-a79d3fc31711"
   },
   "outputs": [
    {
     "name": "stderr",
     "output_type": "stream",
     "text": [
      "The attention mask and the pad token id were not set. As a consequence, you may observe unexpected behavior. Please pass your input's `attention_mask` to obtain reliable results.\n",
      "Setting `pad_token_id` to `eos_token_id`:50256 for open-end generation.\n"
     ]
    }
   ],
   "source": [
    "preds = learn.model.generate(inp, max_length=100, num_beams=5, temperature=1.5)"
   ]
  },
  {
   "cell_type": "code",
   "execution_count": 67,
   "metadata": {
    "id": "RoI0Np73S7zB",
    "outputId": "9a6ca52b-c832-482c-a793-db542259e29f"
   },
   "outputs": [
    {
     "data": {
      "text/plain": [
       "'WORK/VOLUNTEERING Fasca — VolunteerJune 2021 - August 2021100 hours of community service: cleaning the TECRO building, assisting with weekly events, library assistance, and community outreach. \\n                                                        '"
      ]
     },
     "execution_count": 67,
     "metadata": {},
     "output_type": "execute_result"
    }
   ],
   "source": [
    "tokenizer.decode(preds[0].cpu().numpy())"
   ]
  },
  {
   "cell_type": "code",
   "execution_count": 71,
   "metadata": {},
   "outputs": [
    {
     "ename": "AssertionError",
     "evalue": "Expected an input of type in \n  - <class 'torch.Tensor'>\n but got <class 'list'>",
     "output_type": "error",
     "traceback": [
      "\u001b[1;31m---------------------------------------------------------------------------\u001b[0m",
      "\u001b[1;31mAssertionError\u001b[0m                            Traceback (most recent call last)",
      "Input \u001b[1;32mIn [71]\u001b[0m, in \u001b[0;36m<cell line: 1>\u001b[1;34m()\u001b[0m\n\u001b[1;32m----> 1\u001b[0m preds \u001b[38;5;241m=\u001b[39m \u001b[43mlearn\u001b[49m\u001b[38;5;241;43m.\u001b[39;49m\u001b[43mpredict\u001b[49m\u001b[43m(\u001b[49m\u001b[43mprompt_ids\u001b[49m\u001b[43m)\u001b[49m\n",
      "File \u001b[1;32m~\\Downloads\\anaconda\\lib\\site-packages\\fastai\\learner.py:287\u001b[0m, in \u001b[0;36mLearner.predict\u001b[1;34m(self, item, rm_type_tfms, with_input)\u001b[0m\n\u001b[0;32m    286\u001b[0m \u001b[38;5;28;01mdef\u001b[39;00m \u001b[38;5;21mpredict\u001b[39m(\u001b[38;5;28mself\u001b[39m, item, rm_type_tfms\u001b[38;5;241m=\u001b[39m\u001b[38;5;28;01mNone\u001b[39;00m, with_input\u001b[38;5;241m=\u001b[39m\u001b[38;5;28;01mFalse\u001b[39;00m):\n\u001b[1;32m--> 287\u001b[0m     dl \u001b[38;5;241m=\u001b[39m \u001b[38;5;28;43mself\u001b[39;49m\u001b[38;5;241;43m.\u001b[39;49m\u001b[43mdls\u001b[49m\u001b[38;5;241;43m.\u001b[39;49m\u001b[43mtest_dl\u001b[49m\u001b[43m(\u001b[49m\u001b[43m[\u001b[49m\u001b[43mitem\u001b[49m\u001b[43m]\u001b[49m\u001b[43m,\u001b[49m\u001b[43m \u001b[49m\u001b[43mrm_type_tfms\u001b[49m\u001b[38;5;241;43m=\u001b[39;49m\u001b[43mrm_type_tfms\u001b[49m\u001b[43m,\u001b[49m\u001b[43m \u001b[49m\u001b[43mnum_workers\u001b[49m\u001b[38;5;241;43m=\u001b[39;49m\u001b[38;5;241;43m0\u001b[39;49m\u001b[43m)\u001b[49m\n\u001b[0;32m    288\u001b[0m     inp,preds,_,dec_preds \u001b[38;5;241m=\u001b[39m \u001b[38;5;28mself\u001b[39m\u001b[38;5;241m.\u001b[39mget_preds(dl\u001b[38;5;241m=\u001b[39mdl, with_input\u001b[38;5;241m=\u001b[39m\u001b[38;5;28;01mTrue\u001b[39;00m, with_decoded\u001b[38;5;241m=\u001b[39m\u001b[38;5;28;01mTrue\u001b[39;00m)\n\u001b[0;32m    289\u001b[0m     i \u001b[38;5;241m=\u001b[39m \u001b[38;5;28mgetattr\u001b[39m(\u001b[38;5;28mself\u001b[39m\u001b[38;5;241m.\u001b[39mdls, \u001b[38;5;124m'\u001b[39m\u001b[38;5;124mn_inp\u001b[39m\u001b[38;5;124m'\u001b[39m, \u001b[38;5;241m-\u001b[39m\u001b[38;5;241m1\u001b[39m)\n",
      "File \u001b[1;32m~\\Downloads\\anaconda\\lib\\site-packages\\fastai\\data\\core.py:535\u001b[0m, in \u001b[0;36mtest_dl\u001b[1;34m(self, test_items, rm_type_tfms, with_labels, **kwargs)\u001b[0m\n\u001b[0;32m    526\u001b[0m \u001b[38;5;129m@patch\u001b[39m\n\u001b[0;32m    527\u001b[0m \u001b[38;5;129m@delegates\u001b[39m(TfmdDL\u001b[38;5;241m.\u001b[39m\u001b[38;5;21m__init__\u001b[39m)\n\u001b[0;32m    528\u001b[0m \u001b[38;5;28;01mdef\u001b[39;00m \u001b[38;5;21mtest_dl\u001b[39m(\u001b[38;5;28mself\u001b[39m:DataLoaders,\n\u001b[1;32m   (...)\u001b[0m\n\u001b[0;32m    532\u001b[0m     \u001b[38;5;241m*\u001b[39m\u001b[38;5;241m*\u001b[39mkwargs\n\u001b[0;32m    533\u001b[0m ):\n\u001b[0;32m    534\u001b[0m     \u001b[38;5;124m\"\u001b[39m\u001b[38;5;124mCreate a test dataloader from `test_items` using validation transforms of `dls`\u001b[39m\u001b[38;5;124m\"\u001b[39m\n\u001b[1;32m--> 535\u001b[0m     test_ds \u001b[38;5;241m=\u001b[39m \u001b[43mtest_set\u001b[49m\u001b[43m(\u001b[49m\u001b[38;5;28;43mself\u001b[39;49m\u001b[38;5;241;43m.\u001b[39;49m\u001b[43mvalid_ds\u001b[49m\u001b[43m,\u001b[49m\u001b[43m \u001b[49m\u001b[43mtest_items\u001b[49m\u001b[43m,\u001b[49m\u001b[43m \u001b[49m\u001b[43mrm_tfms\u001b[49m\u001b[38;5;241;43m=\u001b[39;49m\u001b[43mrm_type_tfms\u001b[49m\u001b[43m,\u001b[49m\u001b[43m \u001b[49m\u001b[43mwith_labels\u001b[49m\u001b[38;5;241;43m=\u001b[39;49m\u001b[43mwith_labels\u001b[49m\n\u001b[0;32m    536\u001b[0m \u001b[43m                      \u001b[49m\u001b[43m)\u001b[49m \u001b[38;5;28;01mif\u001b[39;00m \u001b[38;5;28misinstance\u001b[39m(\u001b[38;5;28mself\u001b[39m\u001b[38;5;241m.\u001b[39mvalid_ds, (Datasets, TfmdLists)) \u001b[38;5;28;01melse\u001b[39;00m test_items\n\u001b[0;32m    537\u001b[0m     \u001b[38;5;28;01mreturn\u001b[39;00m \u001b[38;5;28mself\u001b[39m\u001b[38;5;241m.\u001b[39mvalid\u001b[38;5;241m.\u001b[39mnew(test_ds, \u001b[38;5;241m*\u001b[39m\u001b[38;5;241m*\u001b[39mkwargs)\n",
      "File \u001b[1;32m~\\Downloads\\anaconda\\lib\\site-packages\\fastai\\data\\core.py:520\u001b[0m, in \u001b[0;36mtest_set\u001b[1;34m(dsets, test_items, rm_tfms, with_labels)\u001b[0m\n\u001b[0;32m    518\u001b[0m \u001b[38;5;28;01melif\u001b[39;00m \u001b[38;5;28misinstance\u001b[39m(dsets, TfmdLists):\n\u001b[0;32m    519\u001b[0m     test_tl \u001b[38;5;241m=\u001b[39m dsets\u001b[38;5;241m.\u001b[39m_new(test_items, split_idx\u001b[38;5;241m=\u001b[39m\u001b[38;5;241m1\u001b[39m)\n\u001b[1;32m--> 520\u001b[0m     \u001b[38;5;28;01mif\u001b[39;00m rm_tfms \u001b[38;5;129;01mis\u001b[39;00m \u001b[38;5;28;01mNone\u001b[39;00m: rm_tfms \u001b[38;5;241m=\u001b[39m \u001b[43mdsets\u001b[49m\u001b[38;5;241;43m.\u001b[39;49m\u001b[43minfer_idx\u001b[49m\u001b[43m(\u001b[49m\u001b[43mget_first\u001b[49m\u001b[43m(\u001b[49m\u001b[43mtest_items\u001b[49m\u001b[43m)\u001b[49m\u001b[43m)\u001b[49m\n\u001b[0;32m    521\u001b[0m     test_tl\u001b[38;5;241m.\u001b[39mtfms\u001b[38;5;241m.\u001b[39mfs \u001b[38;5;241m=\u001b[39m test_tl\u001b[38;5;241m.\u001b[39mtfms\u001b[38;5;241m.\u001b[39mfs[rm_tfms:]\n\u001b[0;32m    522\u001b[0m     \u001b[38;5;28;01mreturn\u001b[39;00m test_tl\n",
      "File \u001b[1;32m~\\Downloads\\anaconda\\lib\\site-packages\\fastai\\data\\core.py:408\u001b[0m, in \u001b[0;36mTfmdLists.infer_idx\u001b[1;34m(self, x)\u001b[0m\n\u001b[0;32m    406\u001b[0m types \u001b[38;5;241m=\u001b[39m L(t \u001b[38;5;28;01mif\u001b[39;00m is_listy(t) \u001b[38;5;28;01melse\u001b[39;00m [t] \u001b[38;5;28;01mfor\u001b[39;00m t \u001b[38;5;129;01min\u001b[39;00m \u001b[38;5;28mself\u001b[39m\u001b[38;5;241m.\u001b[39mtypes)\u001b[38;5;241m.\u001b[39mconcat()\u001b[38;5;241m.\u001b[39munique()\n\u001b[0;32m    407\u001b[0m pretty_types \u001b[38;5;241m=\u001b[39m \u001b[38;5;124m'\u001b[39m\u001b[38;5;130;01m\\n\u001b[39;00m\u001b[38;5;124m'\u001b[39m\u001b[38;5;241m.\u001b[39mjoin([\u001b[38;5;124mf\u001b[39m\u001b[38;5;124m'\u001b[39m\u001b[38;5;124m  - \u001b[39m\u001b[38;5;132;01m{\u001b[39;00mt\u001b[38;5;132;01m}\u001b[39;00m\u001b[38;5;124m'\u001b[39m \u001b[38;5;28;01mfor\u001b[39;00m t \u001b[38;5;129;01min\u001b[39;00m types])\n\u001b[1;32m--> 408\u001b[0m \u001b[38;5;28;01massert\u001b[39;00m idx \u001b[38;5;241m<\u001b[39m \u001b[38;5;28mlen\u001b[39m(\u001b[38;5;28mself\u001b[39m\u001b[38;5;241m.\u001b[39mtypes), \u001b[38;5;124mf\u001b[39m\u001b[38;5;124m\"\u001b[39m\u001b[38;5;124mExpected an input of type in \u001b[39m\u001b[38;5;130;01m\\n\u001b[39;00m\u001b[38;5;132;01m{\u001b[39;00mpretty_types\u001b[38;5;132;01m}\u001b[39;00m\u001b[38;5;130;01m\\n\u001b[39;00m\u001b[38;5;124m but got \u001b[39m\u001b[38;5;132;01m{\u001b[39;00m\u001b[38;5;28mtype\u001b[39m(x)\u001b[38;5;132;01m}\u001b[39;00m\u001b[38;5;124m\"\u001b[39m\n\u001b[0;32m    409\u001b[0m \u001b[38;5;28;01mreturn\u001b[39;00m idx\n",
      "\u001b[1;31mAssertionError\u001b[0m: Expected an input of type in \n  - <class 'torch.Tensor'>\n but got <class 'list'>"
     ]
    }
   ],
   "source": [
    "preds = learn.predict(prompt_ids)"
   ]
  },
  {
   "cell_type": "code",
   "execution_count": null,
   "metadata": {},
   "outputs": [],
   "source": []
  }
 ],
 "metadata": {
  "colab": {
   "name": "39_tutorial.transformers.ipynb",
   "provenance": []
  },
  "kernelspec": {
   "display_name": "Python 3 (ipykernel)",
   "language": "python",
   "name": "python3"
  },
  "language_info": {
   "codemirror_mode": {
    "name": "ipython",
    "version": 3
   },
   "file_extension": ".py",
   "mimetype": "text/x-python",
   "name": "python",
   "nbconvert_exporter": "python",
   "pygments_lexer": "ipython3",
   "version": "3.9.12"
  }
 },
 "nbformat": 4,
 "nbformat_minor": 1
}
